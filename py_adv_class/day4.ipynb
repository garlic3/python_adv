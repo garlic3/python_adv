{
 "cells": [
  {
   "cell_type": "code",
   "execution_count": 3,
   "metadata": {},
   "outputs": [],
   "source": [
    "import sys  # 하드웨어 접근 모듈\n",
    "from PyQt5.QtWidgets import * # 파이큐티 관련 모듈\n",
    "from PyQt5.QtCore import * # 타이머 관련 모듈 \n",
    "from PyQt5 import uic  # ui 관련 모듈\n",
    "import pybithumb\n",
    "import pykorbit\n"
   ]
  },
  {
   "cell_type": "code",
   "execution_count": 2,
   "metadata": {},
   "outputs": [
    {
     "name": "stderr",
     "output_type": "stream",
     "text": [
      "2022-03-31 13:42:44.505 python[28910:755231] TSM AdjustCapsLockLEDForKeyTransitionHandling - _ISSetPhysicalKeyboardCapsLockLED Inhibit\n"
     ]
    },
    {
     "data": {
      "text/plain": [
       "0"
      ]
     },
     "execution_count": 2,
     "metadata": {},
     "output_type": "execute_result"
    }
   ],
   "source": [
    "\n",
    "tickers = [\"BTC\",\"ETH\",\"XRP\",\"ADA\"]\n",
    "form_class = uic.loadUiType(\"day4.ui\")[0]  # 파이큐티로 만든 폼 불러오기\n",
    "\n",
    "class MyWindow(QMainWindow, form_class):   # MyWindow 클래스를 상속받음 \n",
    "    def __init__(self):                 # 생성자로 창 생성\n",
    "        super().__init__()              # 부모의 생성자를 이용\n",
    "        self.setupUi(self)              # ui 창 생성     \n",
    "        timer = QTimer(self)\n",
    "        timer.start(1000)\n",
    "        timer.timeout.connect(self.timeout)\n",
    "\n",
    "\n",
    "    def timeout(self):\n",
    "        for i, ticker in enumerate(tickers):\n",
    "            item = QTableWidgetItem(ticker)\n",
    "            self.tableWidget.setItem(i,0, item)\n",
    "            price = QTableWidgetItem(str(pybithumb.get_current_price(ticker)))\n",
    "            self.tableWidget.setItem(i,1, price)\n",
    "\n",
    "        \n",
    "            \n",
    "\n",
    "app = QApplication(sys.argv)    # 파이썬은 원래 인터프리터로 한줄씩 실행후 창이 꺼져야 정상\n",
    "window = MyWindow()             # 윈도우 클래스로 객체 생성\n",
    "window.show()                   # 생성한 객체를 통해 창을 보여주기 \n",
    "app.exec_()                     # 윈도우 창이 열린 상태로 계속 대기 유지 \n"
   ]
  },
  {
   "cell_type": "code",
   "execution_count": 4,
   "metadata": {},
   "outputs": [],
   "source": [
    "\n",
    "tickers = [\"BTC\",\"ETH\",\"XRP\",\"ADA\"]\n",
    "form_class = uic.loadUiType(\"day4.ui\")[0]  # 파이큐티로 만든 폼 불러오기\n",
    "\n",
    "class MyWindow(QMainWindow, form_class):   # MyWindow 클래스를 상속받음 \n",
    "    def __init__(self):                 # 생성자로 창 생성\n",
    "        super().__init__()              # 부모의 생성자를 이용\n",
    "        self.setupUi(self)              # ui 창 생성     \n",
    "        timer = QTimer(self)\n",
    "        timer.start(5000)\n",
    "        timer.timeout.connect(self.timeout)\n",
    "\n",
    "\n",
    "\n",
    "    def get_market_infos(self, ticker):\n",
    "        df = pybithumb.get_ohlcv(ticker)        # 해당 코인의 다양한 정보 가져오기 \n",
    "        ma5 = df['close'].rolling(window=5).mean()      # 종가들을 5일씩 평균을 전부 계산 \n",
    "        last_ma5 = ma5[-2]                      # 가장 최근 5일치의 평균만 추출 \n",
    "        price = pybithumb.get_current_price(ticker)     # 해당 코인의 현재가 \n",
    "        \n",
    "        state = None\n",
    "        if price > last_ma5 :\n",
    "            state = \"상승장\"\n",
    "        else:\n",
    "            state = \"하락장\"   \n",
    "\n",
    "        return price, last_ma5, state  # 튜플 형식으로 반환   \n",
    "\n",
    "    def get_market_infos2(self,ticker):\n",
    "        df = pykorbit.get_ohlcv(ticker)        # 해당 코인의 다양한 정보 가져오기 \n",
    "        ma5 = df['close'].rolling(window=5).mean()      # 종가들을 5일씩 평균을 전부 계산 \n",
    "        last_ma5 = ma5[-2]                      # 가장 최근 5일치의 평균만 추출 \n",
    "        price = pykorbit.get_current_price(ticker)     # 해당 코인의 현재가 \n",
    "        \n",
    "        state = None\n",
    "        if price > last_ma5 :\n",
    "            state = \"상승장\"\n",
    "        else:\n",
    "            state = \"하락장\"\n",
    "        \n",
    "        return price, last_ma5, state  # 튜플 형식으로 반환   \n",
    "    \n",
    "\n",
    "# pybithumb\n",
    "# pykorbit\n",
    "\n",
    "\n",
    "    def timeout(self):\n",
    "\n",
    "        for i, ticker in enumerate(tickers):\n",
    "            item = QTableWidgetItem(ticker)\n",
    "            self.tableWidget.setItem(i,0, item)\n",
    "            price, last_ma5, state = self.get_market_infos(ticker)\n",
    "            self.tableWidget.setItem(i,1, QTableWidgetItem(str(price)))\n",
    "            self.tableWidget.setItem(i,2, QTableWidgetItem(str(last_ma5)))\n",
    "            self.tableWidget.setItem(i,3, QTableWidgetItem(str(state)))\n",
    "\n",
    "\n",
    "        for i, ticker in enumerate(tickers):\n",
    "            item = QTableWidgetItem(ticker)\n",
    "            price, last_ma5, state = self.get_market_infos(ticker)\n",
    "            self.tableWidget_2.setItem(i,0, item)            \n",
    "            self.tableWidget_2.setItem(i,1, QTableWidgetItem(str(price)))\n",
    "            self.tableWidget_2.setItem(i,2, QTableWidgetItem(str(last_ma5)))\n",
    "            self.tableWidget_2.setItem(i,3, QTableWidgetItem(str(state)))\n",
    "            \n",
    "            \n",
    "            \n",
    "\n",
    "app = QApplication(sys.argv)    # 파이썬은 원래 인터프리터로 한줄씩 실행후 창이 꺼져야 정상\n",
    "window = MyWindow()             # 윈도우 클래스로 객체 생성\n",
    "window.show()                   # 생성한 객체를 통해 창을 보여주기 \n",
    "app.exec_()    \n"
   ]
  },
  {
   "cell_type": "code",
   "execution_count": null,
   "metadata": {},
   "outputs": [],
   "source": []
  }
 ],
 "metadata": {
  "interpreter": {
   "hash": "fcb0e32c293e76b454f52f6bc2d6dc50a42fb944ae627ecf0e5611e9705c2e6c"
  },
  "kernelspec": {
   "display_name": "Python 3.9.7 ('base')",
   "language": "python",
   "name": "python3"
  },
  "language_info": {
   "codemirror_mode": {
    "name": "ipython",
    "version": 3
   },
   "file_extension": ".py",
   "mimetype": "text/x-python",
   "name": "python",
   "nbconvert_exporter": "python",
   "pygments_lexer": "ipython3",
   "version": "3.9.7"
  },
  "orig_nbformat": 4
 },
 "nbformat": 4,
 "nbformat_minor": 2
}
