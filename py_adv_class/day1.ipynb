{
 "cells": [
  {
   "cell_type": "code",
   "execution_count": 9,
   "metadata": {},
   "outputs": [],
   "source": [
    "# 파이썬 API를 이용한 가상화폐 \n",
    "# !pip install pybithumb\n",
    "import pybithumb\n"
   ]
  },
  {
   "cell_type": "code",
   "execution_count": 10,
   "metadata": {},
   "outputs": [
    {
     "name": "stdout",
     "output_type": "stream",
     "text": [
      "56355000.0\n",
      "3966000.0\n"
     ]
    }
   ],
   "source": [
    "price = pybithumb.get_current_price(\"BTC\")\n",
    "print(price)\n",
    "price = pybithumb.get_current_price(\"ETH\")\n",
    "print(price)"
   ]
  },
  {
   "cell_type": "code",
   "execution_count": 12,
   "metadata": {},
   "outputs": [
    {
     "name": "stdout",
     "output_type": "stream",
     "text": [
      "196\n"
     ]
    }
   ],
   "source": [
    "tickers = pybithumb.get_tickers()\n",
    "print(len(tickers))"
   ]
  },
  {
   "cell_type": "code",
   "execution_count": null,
   "metadata": {},
   "outputs": [],
   "source": [
    "# 모든 코인의 (196개) 현재 가격을 모두 조회하시오\n",
    "\n",
    "for i in tickers:\n",
    "    price = pybithumb.get_current_price(i)\n",
    "    print(f\"{i} - {price} \")\n",
    "print(\"20 서민성\")\n"
   ]
  },
  {
   "cell_type": "code",
   "execution_count": null,
   "metadata": {},
   "outputs": [],
   "source": []
  }
 ],
 "metadata": {
  "interpreter": {
   "hash": "fcb0e32c293e76b454f52f6bc2d6dc50a42fb944ae627ecf0e5611e9705c2e6c"
  },
  "kernelspec": {
   "display_name": "Python 3.9.7 ('base')",
   "language": "python",
   "name": "python3"
  },
  "language_info": {
   "codemirror_mode": {
    "name": "ipython",
    "version": 3
   },
   "file_extension": ".py",
   "mimetype": "text/x-python",
   "name": "python",
   "nbconvert_exporter": "python",
   "pygments_lexer": "ipython3",
   "version": "3.9.7"
  },
  "orig_nbformat": 4
 },
 "nbformat": 4,
 "nbformat_minor": 2
}
